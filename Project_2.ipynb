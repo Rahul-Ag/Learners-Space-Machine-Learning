{
  "cells": [
    {
      "cell_type": "markdown",
      "metadata": {
        "id": "view-in-github",
        "colab_type": "text"
      },
      "source": [
        "<a href=\"https://colab.research.google.com/github/Rahul-Ag/Learners-Space-Machine-Learning/blob/main/Project_2.ipynb\" target=\"_parent\"><img src=\"https://colab.research.google.com/assets/colab-badge.svg\" alt=\"Open In Colab\"/></a>"
      ]
    },
    {
      "cell_type": "code",
      "execution_count": null,
      "metadata": {
        "id": "_HNNxj85soe3"
      },
      "outputs": [],
      "source": [
        "import deeplake\n",
        "import numpy as np\n",
        "import pandas as pd\n",
        "import cv2\n",
        "import os\n",
        "import tensorflow as tf\n",
        "from tensorflow.keras.preprocessing.image import ImageDataGenerator\n",
        "from tensorflow.keras.applications import EfficientNetB0\n",
        "from tensorflow.keras.layers import Dense, GlobalAveragePooling2D, Dropout\n",
        "from tensorflow.keras.models import Model\n",
        "from sklearn.metrics import classification_report, roc_auc_score, accuracy_score, f1_score, average_precision_score"
      ]
    },
    {
      "cell_type": "code",
      "execution_count": null,
      "metadata": {
        "colab": {
          "background_save": true
        },
        "id": "uXGQAucpnVpg",
        "outputId": "2ee9154e-9784-44f2-fcb0-65b13b767c8d"
      },
      "outputs": [
        {
          "name": "stderr",
          "output_type": "stream",
          "text": [
            "\r\r"
          ]
        },
        {
          "name": "stdout",
          "output_type": "stream",
          "text": [
            "Opening dataset in read-only mode as you don't have write permissions.\n"
          ]
        },
        {
          "name": "stderr",
          "output_type": "stream",
          "text": [
            "\\"
          ]
        }
      ],
      "source": [
        "# Load dataset from DeepLake\n",
        "ds = deeplake.load(\"hub://activeloop/ham10000\")"
      ]
    },
    {
      "cell_type": "code",
      "execution_count": null,
      "metadata": {
        "id": "2fm51NDjtDUG"
      },
      "outputs": [],
      "source": [
        "# Preprocess image function\n",
        "def preprocess_image(image, img_size=(224, 224)):\n",
        "    image = cv2.resize(image, img_size)\n",
        "    image = cv2.cvtColor(image, cv2.COLOR_BGR2RGB)\n",
        "    image = image / 255.0\n",
        "    return image"
      ]
    },
    {
      "cell_type": "code",
      "execution_count": null,
      "metadata": {
        "id": "KNo6_DGRtN5k"
      },
      "outputs": [],
      "source": [
        "# Load and preprocess the data\n",
        "img_size = (224, 224)\n",
        "def generate_images_labels(ds, img_size=(224, 224)):\n",
        "    images = []\n",
        "    labels = []\n",
        "    for i in range(int(len(ds['images'])/6)):\n",
        "        image = ds['images'][i].numpy()\n",
        "        label = ds['lesion_categories'][i].numpy()  # Use the 'lesion_categories' tensor for labels\n",
        "        image = preprocess_image(image, img_size)\n",
        "        images.append(image)\n",
        "        labels.append(label)\n",
        "    return np.array(images), np.array(labels)\n",
        "\n",
        "images, labels = generate_images_labels(ds, img_size)"
      ]
    },
    {
      "cell_type": "code",
      "execution_count": null,
      "metadata": {
        "id": "jnGxtJex0uUS"
      },
      "outputs": [],
      "source": [
        "# Convert labels to categorical format\n",
        "num_classes = len(np.unique(labels))\n",
        "labels = tf.keras.utils.to_categorical(labels, num_classes=num_classes)"
      ]
    },
    {
      "cell_type": "code",
      "execution_count": null,
      "metadata": {
        "id": "HX4OsUZptiEP"
      },
      "outputs": [],
      "source": [
        "from sklearn.model_selection import train_test_split\n",
        "\n",
        "# Split data into training and validation sets\n",
        "train_images, val_images, train_labels, val_labels = train_test_split(images, labels, test_size=0.2, random_state=42)"
      ]
    },
    {
      "cell_type": "code",
      "execution_count": null,
      "metadata": {
        "id": "z-eQsc2szQBl"
      },
      "outputs": [],
      "source": [
        "# Create ImageDataGenerators\n",
        "train_datagen = ImageDataGenerator()\n",
        "val_datagen = ImageDataGenerator()\n",
        "\n",
        "train_generator = train_datagen.flow(train_images, train_labels, batch_size=32, shuffle=True)\n",
        "validation_generator = val_datagen.flow(val_images, val_labels, batch_size=32, shuffle=False)"
      ]
    },
    {
      "cell_type": "code",
      "execution_count": null,
      "metadata": {
        "id": "ZS5FGo-azeIn"
      },
      "outputs": [],
      "source": [
        "# Load the EfficientNetB0 model with pre-trained weights\n",
        "base_model = EfficientNetB0(weights='imagenet', include_top=False, input_shape=(224, 224, 3))"
      ]
    },
    {
      "cell_type": "code",
      "execution_count": null,
      "metadata": {
        "id": "SVezjfRnzgdf"
      },
      "outputs": [],
      "source": [
        "# Add custom layers on top of the base model\n",
        "x = base_model.output\n",
        "x = GlobalAveragePooling2D()(x)\n",
        "x = Dropout(0.5)(x)\n",
        "predictions = Dense(num_classes, activation='softmax')(x)"
      ]
    },
    {
      "cell_type": "code",
      "execution_count": null,
      "metadata": {
        "id": "cPN-ENlazixM"
      },
      "outputs": [],
      "source": [
        "# Define the model\n",
        "model = Model(inputs=base_model.input, outputs=predictions)"
      ]
    },
    {
      "cell_type": "code",
      "execution_count": null,
      "metadata": {
        "id": "veDVDImd3B2I"
      },
      "outputs": [],
      "source": [
        "# Compile the model\n",
        "model.compile(optimizer='adam', loss='categorical_crossentropy', metrics=['accuracy'])"
      ]
    },
    {
      "cell_type": "code",
      "execution_count": null,
      "metadata": {
        "id": "7atBlsWB3FhL"
      },
      "outputs": [],
      "source": [
        "# Train the model\n",
        "history = model.fit(\n",
        "    train_generator,\n",
        "    steps_per_epoch=len(train_generator),\n",
        "    validation_data=validation_generator,\n",
        "    validation_steps=len(validation_generator),\n",
        "    epochs=15\n",
        ")"
      ]
    },
    {
      "cell_type": "code",
      "execution_count": null,
      "metadata": {
        "id": "0BDg4I2J3ILy"
      },
      "outputs": [],
      "source": [
        "# Evaluate the model on validation data\n",
        "val_predictions = model.predict(val_images)"
      ]
    },
    {
      "cell_type": "code",
      "execution_count": null,
      "metadata": {
        "id": "ebpHS3K73Kcy"
      },
      "outputs": [],
      "source": [
        "# Calculate metrics\n",
        "accuracy = accuracy_score(np.argmax(val_labels, axis=1), np.argmax(val_predictions, axis=1))\n",
        "auc = roc_auc_score(val_labels, val_predictions, multi_class='ovo')\n",
        "f1 = f1_score(np.argmax(val_labels, axis=1), np.argmax(val_predictions, axis=1), average='weighted')\n",
        "mean_ap = average_precision_score(val_labels, val_predictions, average='weighted')\n",
        "\n",
        "print(f'Accuracy: {accuracy}')\n",
        "print(f'AUC: {auc}')\n",
        "print(f'F1 Score: {f1}')\n",
        "print(f'Mean Average Precision: {mean_ap}')"
      ]
    },
    {
      "cell_type": "code",
      "execution_count": null,
      "metadata": {
        "id": "5nx0a4VL3Osm"
      },
      "outputs": [],
      "source": [
        "# Save the model\n",
        "model.save('medical_image_classification_model.h5')"
      ]
    },
    {
      "cell_type": "code",
      "execution_count": null,
      "metadata": {
        "colab": {
          "background_save": true
        },
        "id": "HNczmTwPBonA"
      },
      "outputs": [],
      "source": []
    }
  ],
  "metadata": {
    "colab": {
      "provenance": [],
      "authorship_tag": "ABX9TyPiTl+L62nl0fzUxmiCX4Qa",
      "include_colab_link": true
    },
    "kernelspec": {
      "display_name": "Python 3",
      "name": "python3"
    },
    "language_info": {
      "name": "python"
    }
  },
  "nbformat": 4,
  "nbformat_minor": 0
}