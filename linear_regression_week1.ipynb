{
  "nbformat": 4,
  "nbformat_minor": 0,
  "metadata": {
    "colab": {
      "provenance": [],
      "include_colab_link": true
    },
    "kernelspec": {
      "name": "python3",
      "display_name": "Python 3"
    },
    "language_info": {
      "name": "python"
    }
  },
  "cells": [
    {
      "cell_type": "markdown",
      "metadata": {
        "id": "view-in-github",
        "colab_type": "text"
      },
      "source": [
        "<a href=\"https://colab.research.google.com/github/Rahul-Ag/Learners-Space-Machine-Learning/blob/main/linear_regression_week1.ipynb\" target=\"_parent\"><img src=\"https://colab.research.google.com/assets/colab-badge.svg\" alt=\"Open In Colab\"/></a>"
      ]
    },
    {
      "cell_type": "code",
      "execution_count": 1,
      "metadata": {
        "id": "-zTLHrFCT6KY"
      },
      "outputs": [],
      "source": [
        "import numpy as np\n",
        "import pandas as pd\n",
        "import matplotlib.pyplot as plt\n",
        "from sklearn.preprocessing import LabelEncoder\n",
        "\n",
        "# Aim is to predict the marks of students of the test data"
      ]
    },
    {
      "cell_type": "code",
      "source": [
        "# Use the file namd 'training data' to train the model\n",
        "\n",
        "data = pd.read_excel('Training data.xlsx')\n",
        "x_train = np.array(data.iloc[:,0:8])\n",
        "y_train = np.array(data.iloc[:,8]).reshape(-1,1)\n",
        "\n",
        "# Try plotting y_train with different features\n",
        "# To get an idea whether to add some features or not\n",
        "# Add some features if required in x_train\n",
        "\n",
        "# Also do label encoding for features not represented in numbers\n",
        "# refer the link if not know : https://youtu.be/589nCGeWG1w?si=t2Wa7LgbUOO4RooM\n",
        "\n",
        "def feature_changing(x_train):\n",
        "    le = LabelEncoder()\n",
        "    for i in range(x_train.shape[1]):\n",
        "        if isinstance(x_train[0, i], str):\n",
        "            x_train[:, i] = le.fit_transform(x_train[:, i])\n",
        "    x_train = x_train.astype(np.float64)\n",
        "    return x_train\n",
        "\n",
        "x_train = feature_changing(x_train)"
      ],
      "metadata": {
        "id": "p0KHq8ZgTpU4"
      },
      "execution_count": 9,
      "outputs": []
    },
    {
      "cell_type": "code",
      "source": [
        "def z_score(x_train):\n",
        "    x_mean = np.mean(x_train, axis=0)\n",
        "    x_std = np.std(x_train, axis=0)\n",
        "    x_train = (x_train - x_mean) / x_std\n",
        "    return x_train, x_std, x_mean"
      ],
      "metadata": {
        "id": "tYshvtYlVour"
      },
      "execution_count": 10,
      "outputs": []
    },
    {
      "cell_type": "code",
      "source": [
        "def cost(x_train, y_train, w, b):\n",
        "    m = len(y_train)\n",
        "    predictions = np.dot(x_train, w) + b\n",
        "    loss = (1 / (2 * m)) * np.sum((predictions - y_train) ** 2)\n",
        "    return loss"
      ],
      "metadata": {
        "id": "O5dOwbNbWJWa"
      },
      "execution_count": 11,
      "outputs": []
    },
    {
      "cell_type": "code",
      "source": [
        "def gradient_descent(x_train, y_train, w, b, learning_rate=0.01, iterations=1000):\n",
        "    m = len(y_train)\n",
        "    for i in range(iterations):\n",
        "        predictions = np.dot(x_train, w) + b\n",
        "        dw = (1 / m) * np.dot(x_train.T, (predictions - y_train))\n",
        "        db = (1 / m) * np.sum(predictions - y_train)\n",
        "        w -= learning_rate * dw\n",
        "        b -= learning_rate * db\n",
        "    return w, b"
      ],
      "metadata": {
        "id": "hW8p2cTNU74W"
      },
      "execution_count": 12,
      "outputs": []
    },
    {
      "cell_type": "code",
      "source": [
        "x_train = x_train.astype(np.float64)\n",
        "x_train,x_std,x_mean = z_score(x_train)\n",
        "\n",
        "np.random.seed(2147483647)\n",
        "w = np.random.randn(x_train.shape[1],1)\n",
        "b = np.random.randn(1)\n",
        "\n",
        "old_cost = 0\n",
        "\n",
        "while abs(old_cost - cost(x_train,y_train,w,b))>0.00001:\n",
        "  old_cost = cost(x_train,y_train,w,b)\n",
        "  w,b = gradient_descent(x_train,y_train,w,b)\n",
        "\n",
        "x_predict = pd.read_excel('Test data.xlsx').iloc[:,:8].to_numpy()\n",
        "x_predict = feature_changing(x_predict)\n",
        "x_predict = (x_predict - x_mean)/x_std\n",
        "ans = pd.read_excel('Test data.xlsx').iloc[:,8].to_numpy()\n",
        "\n",
        "y_predict = np.dot(x_predict,w) + b\n",
        "\n",
        "accuracy = 0\n",
        "for dim in range(len(ans)):\n",
        "  if abs(y_predict[dim]-ans[dim])<0.5: # do not change the tolerance as you'll be checked on +- 0.5 error only\n",
        "    accuracy += 1\n",
        "accuracy = round(accuracy*100/200.0,2)\n",
        "ok = 'Congratulations' if accuracy>95 else 'Optimization required'\n",
        "print(f\"{ok}, your accuracy is {accuracy}%\")"
      ],
      "metadata": {
        "id": "Kl-fioJ5WkYn",
        "colab": {
          "base_uri": "https://localhost:8080/"
        },
        "outputId": "b9b8c705-4548-4e24-adbd-b4418c5da262"
      },
      "execution_count": 13,
      "outputs": [
        {
          "output_type": "stream",
          "name": "stdout",
          "text": [
            "Congratulations, your accuracy is 100.0%\n"
          ]
        }
      ]
    },
    {
      "cell_type": "code",
      "source": [],
      "metadata": {
        "id": "yF6PjYi_yoc0"
      },
      "execution_count": 13,
      "outputs": []
    }
  ]
}